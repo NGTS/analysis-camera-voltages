{
 "cells": [
  {
   "cell_type": "markdown",
   "metadata": {},
   "source": [
    "# Paladin analysis\n",
    "\n",
    "Based on the [simultaneous analysis](simultaneous_analysis.ipynb) we see the frame levels as measured by Paladin are different to each other. Let's measure these values from the images so we can be sure of the method.\n",
    "\n",
    "## Plan\n",
    "\n",
    "* Get the list of images for one of the nights in question (20150609)\n",
    "    * cameras 802 and 806\n",
    "    * field NG2000\n",
    "* For each image, measure:\n",
    "    * raw frame mean\n",
    "    * raw frame median\n",
    "    * raw frame variance\n",
    "    * left overscan\n",
    "    * right overscan\n",
    "    * bias subtracted frame mean\n",
    "    * bias subtracted frame median\n",
    "    * bias subtracted frame variance"
   ]
  },
  {
   "cell_type": "code",
   "execution_count": 82,
   "metadata": {
    "collapsed": true
   },
   "outputs": [],
   "source": [
    "%matplotlib inline\n",
    "\n",
    "import numpy as np\n",
    "import matplotlib.pyplot as plt\n",
    "import glob\n",
    "import sqlalchemy as sa\n",
    "from contextlib import contextmanager\n",
    "import bz2\n",
    "from astropy.io import fits\n",
    "\n",
    "engine = sa.create_engine('mysql+pymysql://sw@ngtsdb/ngts_ops')\n",
    "write_engine = sa.create_engine('sqlite:///results.db')"
   ]
  },
  {
   "cell_type": "code",
   "execution_count": 83,
   "metadata": {
    "collapsed": false
   },
   "outputs": [],
   "source": [
    "from sqlalchemy.ext.declarative import declarative_base\n",
    "from sqlalchemy.orm import sessionmaker\n",
    "\n",
    "Base = declarative_base(bind=write_engine)\n",
    "Session = sessionmaker(bind=write_engine)\n",
    "\n",
    "@contextmanager\n",
    "def session_scope():\n",
    "    \"\"\"Provide a transactional scope around a series of operations.\"\"\"\n",
    "    session = Session()\n",
    "    try:\n",
    "        yield session\n",
    "        session.commit()\n",
    "    except:\n",
    "        session.rollback()\n",
    "        raise\n",
    "    finally:\n",
    "        session.close()\n",
    "\n",
    "class ResultsRow(Base):\n",
    "    __tablename__ = 'results'\n",
    "    \n",
    "    id = sa.Column(sa.Integer, primary_key=True)\n",
    "    image_id = sa.Column(sa.BigInteger, nullable=False)\n",
    "    mjd = sa.Column(sa.Float, nullable=False)\n",
    "    camera_id = sa.Column(sa.Integer, nullable=False)\n",
    "    raw_frame_mean = sa.Column(sa.Float, nullable=False)\n",
    "    raw_frame_median = sa.Column(sa.Float, nullable=False)\n",
    "    raw_frame_variance = sa.Column(sa.Float, nullable=False)\n",
    "    left_overscan = sa.Column(sa.Float, nullable=False)\n",
    "    right_overscan = sa.Column(sa.Float, nullable=False)\n",
    "    bias_subtracted_frame_mean = sa.Column(sa.Float, nullable=False)\n",
    "    bias_subtracted_frame_median = sa.Column(sa.Float, nullable=False)\n",
    "    bias_subtracted_frame_variance = sa.Column(sa.Float, nullable=False)\n",
    "    \n",
    "    def __repr__(self):\n",
    "        return '<Result {}>'.format(self.image_id)\n",
    "    \n",
    "Base.metadata.drop_all()\n",
    "Base.metadata.create_all()"
   ]
  },
  {
   "cell_type": "code",
   "execution_count": 53,
   "metadata": {
    "collapsed": true
   },
   "outputs": [],
   "source": [
    "def get_action(camera_id, field):\n",
    "    r = engine.execute('''\n",
    "    select distinct action_id from raw_image_list\n",
    "    where camera_id = %s\n",
    "    and field = %s\n",
    "    and night = \"20150609\"\n",
    "    ''', (camera_id, field))\n",
    "    return r.first()[0]"
   ]
  },
  {
   "cell_type": "code",
   "execution_count": 54,
   "metadata": {
    "collapsed": false
   },
   "outputs": [
    {
     "name": "stdout",
     "output_type": "stream",
     "text": [
      "Action 802: 104358 , action 806: 104376\n"
     ]
    }
   ],
   "source": [
    "action_802 = get_action(802, \"NG2000-4500\")\n",
    "action_806 = get_action(806, \"NG2000-4501\")\n",
    "print('Action 802:', action_802, ', action 806:', action_806)"
   ]
  },
  {
   "cell_type": "code",
   "execution_count": 56,
   "metadata": {
    "collapsed": true
   },
   "outputs": [],
   "source": [
    "@contextmanager\n",
    "def open_file(fname):\n",
    "    if '.bz2' in fname:\n",
    "        with bz2.BZ2File(fname) as uncompressed:\n",
    "            with fits.open(uncompressed) as infile:\n",
    "                yield infile\n",
    "    else:\n",
    "        with fits.open(fname) as infile:\n",
    "            yield infile"
   ]
  },
  {
   "cell_type": "markdown",
   "metadata": {},
   "source": [
    "* For each image, measure:\n",
    "    * raw frame mean\n",
    "    * raw frame median\n",
    "    * raw frame variance\n",
    "    * left overscan\n",
    "    * right overscan\n",
    "    * bias subtracted frame mean\n",
    "    * bias subtracted frame median\n",
    "    * bias subtracted frame variance"
   ]
  },
  {
   "cell_type": "code",
   "execution_count": 73,
   "metadata": {
    "collapsed": true
   },
   "outputs": [],
   "source": [
    "def extract_from_frame(fname):\n",
    "    with open_file(fname) as infile:\n",
    "        all_data = infile[0].data\n",
    "        header = infile[0].header\n",
    "        \n",
    "    row = ResultsRow(\n",
    "        image_id=int(header['image_id']),\n",
    "        mjd=float(header['mjd']),\n",
    "        camera_id=int(header['cameraid']),\n",
    "        raw_frame_mean=all_data.mean(),\n",
    "        raw_frame_median=np.median(all_data),\n",
    "        raw_frame_variance=all_data.var(),\n",
    "        left_overscan=all_data[4:, :20].mean(),\n",
    "        right_overscan=all_data[4:, -15:].mean())\n",
    "    \n",
    "    bias_subtracted = all_data - row.right_overscan\n",
    "    \n",
    "    row.bias_subtracted_frame_mean = bias_subtracted.mean()\n",
    "    row.bias_subtracted_frame_median = np.median(bias_subtracted)\n",
    "    row.bias_subtracted_frame_variance = bias_subtracted.var()\n",
    "    \n",
    "    return row   "
   ]
  },
  {
   "cell_type": "code",
   "execution_count": 91,
   "metadata": {
    "collapsed": true
   },
   "outputs": [],
   "source": [
    "files_802 = glob.glob('/ngts/testdata/paranal/action{}_observeField/IMAGE*.fits.bz2'.format(action_802))\n",
    "files_806 = glob.glob('/ngts/testdata/paranal/action{}_observeField/IMAGE*.fits.bz2'.format(action_806))"
   ]
  },
  {
   "cell_type": "code",
   "execution_count": null,
   "metadata": {
    "collapsed": false
   },
   "outputs": [],
   "source": [
    "session = Session()\n",
    "session.query(ResultsRow).delete()\n",
    "\n",
    "for files_list in [files_802, files_806]:\n",
    "    for fname in files_list:\n",
    "        row = extract_from_frame(fname)\n",
    "        session.add(row)\n",
    "        session.commit()"
   ]
  },
  {
   "cell_type": "code",
   "execution_count": null,
   "metadata": {
    "collapsed": true
   },
   "outputs": [],
   "source": [
    "a = 10"
   ]
  }
 ],
 "metadata": {
  "kernelspec": {
   "display_name": "Python 3",
   "language": "python",
   "name": "python3"
  },
  "language_info": {
   "codemirror_mode": {
    "name": "ipython",
    "version": 3
   },
   "file_extension": ".py",
   "mimetype": "text/x-python",
   "name": "python",
   "nbconvert_exporter": "python",
   "pygments_lexer": "ipython3",
   "version": "3.4.3"
  }
 },
 "nbformat": 4,
 "nbformat_minor": 0
}
